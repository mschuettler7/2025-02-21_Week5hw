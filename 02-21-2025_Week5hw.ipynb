{
 "cells": [
  {
   "cell_type": "code",
   "execution_count": null,
   "id": "4d5e4abe-1125-408f-a8e3-9c58cc347d55",
   "metadata": {},
   "outputs": [],
   "source": [
    "# Q1 Creating lists "
   ]
  },
  {
   "cell_type": "code",
   "execution_count": 5,
   "id": "8a6f8a1a-5692-402a-9150-132173e85d7d",
   "metadata": {},
   "outputs": [],
   "source": [
    "search_terms = [\"improper touching\", \"self-medication\", \"self-prescribing\", \"opioid addiction\", \"harassment\", \n",
    "                \"coercion\", \"sexual harrassment\", \"sex\", \"sexual favor\", \"abuse of trust\", \"opioid prescriptions in return for sex\"]"
   ]
  },
  {
   "cell_type": "code",
   "execution_count": 7,
   "id": "f6f5b67a-76fd-435a-ac35-49308569e535",
   "metadata": {},
   "outputs": [],
   "source": [
    "# Q2 what type of data is this? "
   ]
  },
  {
   "cell_type": "code",
   "execution_count": 9,
   "id": "57912642-cf66-4d5c-b02e-044e49b55638",
   "metadata": {},
   "outputs": [
    {
     "data": {
      "text/plain": [
       "list"
      ]
     },
     "execution_count": 9,
     "metadata": {},
     "output_type": "execute_result"
    }
   ],
   "source": [
    "type(search_terms)"
   ]
  },
  {
   "cell_type": "code",
   "execution_count": 11,
   "id": "da4ea147-34fb-4fdc-852f-3cdfff96f713",
   "metadata": {},
   "outputs": [],
   "source": [
    "# Q3 how long? "
   ]
  },
  {
   "cell_type": "code",
   "execution_count": 13,
   "id": "855659b2-5908-4102-b7eb-6b48543d3fd5",
   "metadata": {},
   "outputs": [
    {
     "data": {
      "text/plain": [
       "11"
      ]
     },
     "execution_count": 13,
     "metadata": {},
     "output_type": "execute_result"
    }
   ],
   "source": [
    "len(search_terms)"
   ]
  },
  {
   "cell_type": "code",
   "execution_count": 15,
   "id": "1725c2f7-f5ce-4f65-a20a-8eede9a38e02",
   "metadata": {},
   "outputs": [],
   "source": [
    "# Q4 build the dictionary "
   ]
  },
  {
   "cell_type": "code",
   "execution_count": 17,
   "id": "a7c3a259-a787-4507-995e-190e600827d3",
   "metadata": {},
   "outputs": [],
   "source": [
    "donation_1 = {\"year\" : \"2017\", \"donor\" : \"David H Koch Charitable Foundation\", \"grantee\" : \"City Center For Music And Drama\",\n",
    "              \"amount\" : 15_000_000}"
   ]
  },
  {
   "cell_type": "code",
   "execution_count": 19,
   "id": "3f2e8ffe-e305-433f-8403-c43277283125",
   "metadata": {},
   "outputs": [],
   "source": [
    "donation_2 = {\"year\" : \"2013\", \"donor\" : \"Bradley Impact Fund Inc\", \"grantee\" : \"Young Americas Foundation\",\n",
    "              \"amount\" : 11_000}"
   ]
  },
  {
   "cell_type": "code",
   "execution_count": 21,
   "id": "fca41cfe-2eb3-4e11-b745-e3ae9bc73871",
   "metadata": {},
   "outputs": [],
   "source": [
    "donation_3 = {\"year\" : \"2016\", \"donor\" : \"Mercer Family Foundation\", \"grantee\" : \"The Becket Fund\",\n",
    "              \"amount\" : 250_000}"
   ]
  },
  {
   "cell_type": "code",
   "execution_count": 23,
   "id": "3e48be51-cb6b-4401-89b2-d27de4b710a5",
   "metadata": {},
   "outputs": [],
   "source": [
    "donation_4 = {\"year\" : \"2012\", \"donor\" : \"Charles Koch Foundation\", \"grantee\" : \"The Phillips Foundation\",\n",
    "              \"amount\" : 25_000}"
   ]
  },
  {
   "cell_type": "code",
   "execution_count": 25,
   "id": "542b4c7f-417b-468d-b86c-5827c1c82496",
   "metadata": {},
   "outputs": [],
   "source": [
    "donation_5 = {\"year\" : \"2017\", \"donor\" : \"Barbara And Barre Seid Foundation\", \"grantee\" : \"Boys Scouts of America\",\n",
    "              \"amount\" : 2_634_600}"
   ]
  },
  {
   "cell_type": "code",
   "execution_count": 27,
   "id": "2f2a2978-03e1-4bbb-a131-472f89d94be9",
   "metadata": {},
   "outputs": [],
   "source": [
    "donation_list = [donation_1, donation_2, donation_3, donation_4, donation_5]"
   ]
  },
  {
   "cell_type": "code",
   "execution_count": 33,
   "id": "b9e4851b-f2c1-41ca-8548-d502ecac857d",
   "metadata": {},
   "outputs": [
    {
     "name": "stdout",
     "output_type": "stream",
     "text": [
      "[{'year': '2017', 'donor': 'David H Koch Charitable Foundation', 'grantee': 'City Center For Music And Drama', 'amount': 15000}, {'year': '2013', 'donor': 'Bradley Impact Fund Inc', 'grantee': 'Young Americas Foundation', 'amount': 11000}, {'year': '2016', 'donor': 'Mercer Family Foundation', 'grantee': 'The Becket Fund', 'amount': 250000}, {'year': '2012', 'donor': 'Charles Koch Foundation', 'grantee': 'The Phillips Foundation', 'amount': 25000}, {'year': '2017', 'donor': 'Barbara And Barre Seid Foundation', 'grantee': 'Boys Scouts of America', 'amount': 2634600}]\n"
     ]
    }
   ],
   "source": [
    "#print list of donations\n",
    "print(donation_list)"
   ]
  },
  {
   "cell_type": "code",
   "execution_count": 35,
   "id": "d614b5a0-ac59-4f4b-883a-99183ee83c85",
   "metadata": {},
   "outputs": [
    {
     "data": {
      "text/plain": [
       "[{'year': '2017',\n",
       "  'donor': 'David H Koch Charitable Foundation',\n",
       "  'grantee': 'City Center For Music And Drama',\n",
       "  'amount': 15000},\n",
       " {'year': '2013',\n",
       "  'donor': 'Bradley Impact Fund Inc',\n",
       "  'grantee': 'Young Americas Foundation',\n",
       "  'amount': 11000},\n",
       " {'year': '2016',\n",
       "  'donor': 'Mercer Family Foundation',\n",
       "  'grantee': 'The Becket Fund',\n",
       "  'amount': 250000},\n",
       " {'year': '2012',\n",
       "  'donor': 'Charles Koch Foundation',\n",
       "  'grantee': 'The Phillips Foundation',\n",
       "  'amount': 25000},\n",
       " {'year': '2017',\n",
       "  'donor': 'Barbara And Barre Seid Foundation',\n",
       "  'grantee': 'Boys Scouts of America',\n",
       "  'amount': 2634600}]"
      ]
     },
     "execution_count": 35,
     "metadata": {},
     "output_type": "execute_result"
    }
   ],
   "source": [
    "#call the donation list \n",
    "donation_list"
   ]
  },
  {
   "cell_type": "code",
   "execution_count": 37,
   "id": "0a6a0706-1df0-4205-bdbf-b58ecef62efd",
   "metadata": {},
   "outputs": [
    {
     "data": {
      "text/plain": [
       "5"
      ]
     },
     "execution_count": 37,
     "metadata": {},
     "output_type": "execute_result"
    }
   ],
   "source": [
    "len(donation_list)"
   ]
  },
  {
   "cell_type": "code",
   "execution_count": 39,
   "id": "8e734962-83d0-4ea5-a624-1dd85140db68",
   "metadata": {},
   "outputs": [],
   "source": [
    "# Slicing \n",
    "disasters = [\n",
    "        \"Landslides\",\n",
    "        \"Earthquake\",\n",
    "        \"Wildfires\",\n",
    "        \"Tornadoes\",\n",
    "        \"Hurricane\",\n",
    "        \"Wind Storm\",\n",
    "        \"Winter Freeze\",\n",
    "        \"Ice Storm\",\n",
    "        \"Drought\",\n",
    "        \"Tsunami\",\n",
    "        \"Flash floods\",\n",
    "        \"Mudslides\",\n",
    "        \"Torrential rainfall\",\n",
    "        \"Riverine floods\",\n",
    "        \"Tidal Surge\"\n",
    "         ]"
   ]
  },
  {
   "cell_type": "code",
   "execution_count": 43,
   "id": "fe2f41c9-7d49-49b4-8192-bb5ddddbc37a",
   "metadata": {},
   "outputs": [
    {
     "data": {
      "text/plain": [
       "['Landslides',\n",
       " 'Earthquake',\n",
       " 'Wildfires',\n",
       " 'Tornadoes',\n",
       " 'Hurricane',\n",
       " 'Wind Storm',\n",
       " 'Winter Freeze',\n",
       " 'Ice Storm',\n",
       " 'Drought',\n",
       " 'Tsunami',\n",
       " 'Flash floods',\n",
       " 'Mudslides',\n",
       " 'Torrential rainfall',\n",
       " 'Riverine floods',\n",
       " 'Tidal Surge']"
      ]
     },
     "execution_count": 43,
     "metadata": {},
     "output_type": "execute_result"
    }
   ],
   "source": [
    "# call the disaster list \n",
    "disasters"
   ]
  },
  {
   "cell_type": "code",
   "execution_count": 49,
   "id": "691eda06-bdc8-4339-a6ee-af02384d3d35",
   "metadata": {},
   "outputs": [
    {
     "data": {
      "text/plain": [
       "'Landslides'"
      ]
     },
     "execution_count": 49,
     "metadata": {},
     "output_type": "execute_result"
    }
   ],
   "source": [
    "# first item in the list \n",
    "disasters[0]"
   ]
  },
  {
   "cell_type": "code",
   "execution_count": 51,
   "id": "20ebb643-2a9d-4b42-8b5f-27e54e87dc0d",
   "metadata": {},
   "outputs": [
    {
     "data": {
      "text/plain": [
       "'Tidal Surge'"
      ]
     },
     "execution_count": 51,
     "metadata": {},
     "output_type": "execute_result"
    }
   ],
   "source": [
    "# penultimate item \n",
    "disasters [-1]"
   ]
  },
  {
   "cell_type": "code",
   "execution_count": 59,
   "id": "4a033430-acbb-4dff-bf6f-633b0b5cfb58",
   "metadata": {},
   "outputs": [
    {
     "data": {
      "text/plain": [
       "['Wildfires', 'Tornadoes', 'Hurricane', 'Wind Storm']"
      ]
     },
     "execution_count": 59,
     "metadata": {},
     "output_type": "execute_result"
    }
   ],
   "source": [
    "# 3rd to 6th items in a subset \n",
    "disasters_subset = disasters[2:6]\n",
    "disasters_subset"
   ]
  },
  {
   "cell_type": "code",
   "execution_count": 65,
   "id": "7fbb705f-1e6a-432d-8470-22cf3f8fc92c",
   "metadata": {},
   "outputs": [
    {
     "data": {
      "text/plain": [
       "['Earthquake',\n",
       " 'Wildfires',\n",
       " 'Tornadoes',\n",
       " 'Hurricane',\n",
       " 'Wind Storm',\n",
       " 'Winter Freeze',\n",
       " 'Ice Storm']"
      ]
     },
     "execution_count": 65,
     "metadata": {},
     "output_type": "execute_result"
    }
   ],
   "source": [
    "# 2nd to 8th items \n",
    "disasters_subset2 = disasters[1:8]\n",
    "disasters_subset2"
   ]
  },
  {
   "cell_type": "code",
   "execution_count": null,
   "id": "203cfd90-cdb2-4a95-88b3-cdf024804837",
   "metadata": {},
   "outputs": [],
   "source": []
  }
 ],
 "metadata": {
  "kernelspec": {
   "display_name": "Python [conda env:base] *",
   "language": "python",
   "name": "conda-base-py"
  },
  "language_info": {
   "codemirror_mode": {
    "name": "ipython",
    "version": 3
   },
   "file_extension": ".py",
   "mimetype": "text/x-python",
   "name": "python",
   "nbconvert_exporter": "python",
   "pygments_lexer": "ipython3",
   "version": "3.12.7"
  }
 },
 "nbformat": 4,
 "nbformat_minor": 5
}
